{
 "cells": [
  {
   "cell_type": "code",
   "execution_count": 4,
   "metadata": {},
   "outputs": [],
   "source": [
    "from trainer import train_test_model"
   ]
  },
  {
   "cell_type": "code",
   "execution_count": 5,
   "metadata": {},
   "outputs": [
    {
     "name": "stdout",
     "output_type": "stream",
     "text": [
      "Epoch 1 / 50, train_loss: 0.0188, train_auroc: 0.738, val_loss: 0.0038, val_auroc: 0.849\n",
      "Epoch 2 / 50, train_loss: 0.0134, train_auroc: 0.868, val_loss: 0.0029, val_auroc: 0.898\n",
      "Epoch 3 / 50, train_loss: 0.0111, train_auroc: 0.890, val_loss: 0.0026, val_auroc: 0.915\n",
      "Epoch 4 / 50, train_loss: 0.0099, train_auroc: 0.917, val_loss: 0.0023, val_auroc: 0.929\n",
      "Epoch 5 / 50, train_loss: 0.0089, train_auroc: 0.935, val_loss: 0.0021, val_auroc: 0.943\n",
      "Epoch 6 / 50, train_loss: 0.0081, train_auroc: 0.948, val_loss: 0.0020, val_auroc: 0.952\n",
      "Epoch 7 / 50, train_loss: 0.0074, train_auroc: 0.958, val_loss: 0.0018, val_auroc: 0.957\n",
      "Epoch 8 / 50, train_loss: 0.0067, train_auroc: 0.967, val_loss: 0.0016, val_auroc: 0.963\n",
      "Epoch 9 / 50, train_loss: 0.0062, train_auroc: 0.971, val_loss: 0.0015, val_auroc: 0.967\n",
      "Epoch 10 / 50, train_loss: 0.0058, train_auroc: 0.973, val_loss: 0.0015, val_auroc: 0.971\n",
      "Epoch 11 / 50, train_loss: 0.0054, train_auroc: 0.978, val_loss: 0.0013, val_auroc: 0.976\n",
      "Epoch 12 / 50, train_loss: 0.0050, train_auroc: 0.980, val_loss: 0.0013, val_auroc: 0.977\n",
      "Epoch 13 / 50, train_loss: 0.0046, train_auroc: 0.984, val_loss: 0.0012, val_auroc: 0.982\n",
      "Epoch 14 / 50, train_loss: 0.0046, train_auroc: 0.983, val_loss: 0.0012, val_auroc: 0.980\n",
      "Epoch 15 / 50, train_loss: 0.0043, train_auroc: 0.985, val_loss: 0.0011, val_auroc: 0.983\n",
      "Epoch 16 / 50, train_loss: 0.0040, train_auroc: 0.986, val_loss: 0.0010, val_auroc: 0.983\n",
      "Epoch 17 / 50, train_loss: 0.0039, train_auroc: 0.986, val_loss: 0.0010, val_auroc: 0.986\n",
      "Epoch 18 / 50, train_loss: 0.0037, train_auroc: 0.989, val_loss: 0.0009, val_auroc: 0.988\n",
      "Epoch 19 / 50, train_loss: 0.0034, train_auroc: 0.990, val_loss: 0.0009, val_auroc: 0.987\n",
      "Epoch 20 / 50, train_loss: 0.0032, train_auroc: 0.991, val_loss: 0.0009, val_auroc: 0.987\n",
      "Epoch 21 / 50, train_loss: 0.0032, train_auroc: 0.991, val_loss: 0.0009, val_auroc: 0.988\n",
      "Epoch 22 / 50, train_loss: 0.0031, train_auroc: 0.992, val_loss: 0.0008, val_auroc: 0.988\n",
      "Epoch 23 / 50, train_loss: 0.0030, train_auroc: 0.991, val_loss: 0.0008, val_auroc: 0.990\n",
      "Epoch 24 / 50, train_loss: 0.0030, train_auroc: 0.992, val_loss: 0.0008, val_auroc: 0.990\n",
      "Epoch 25 / 50, train_loss: 0.0028, train_auroc: 0.994, val_loss: 0.0008, val_auroc: 0.990\n",
      "Epoch 26 / 50, train_loss: 0.0027, train_auroc: 0.993, val_loss: 0.0007, val_auroc: 0.992\n",
      "Epoch 27 / 50, train_loss: 0.0026, train_auroc: 0.994, val_loss: 0.0007, val_auroc: 0.991\n",
      "Epoch 28 / 50, train_loss: 0.0026, train_auroc: 0.994, val_loss: 0.0007, val_auroc: 0.991\n",
      "Epoch 29 / 50, train_loss: 0.0027, train_auroc: 0.994, val_loss: 0.0007, val_auroc: 0.990\n",
      "Epoch 30 / 50, train_loss: 0.0027, train_auroc: 0.993, val_loss: 0.0007, val_auroc: 0.990\n",
      "Epoch 31 / 50, train_loss: 0.0026, train_auroc: 0.994, val_loss: 0.0007, val_auroc: 0.991\n",
      "Epoch 32 / 50, train_loss: 0.0028, train_auroc: 0.992, val_loss: 0.0007, val_auroc: 0.991\n",
      "Epoch 33 / 50, train_loss: 0.0025, train_auroc: 0.994, val_loss: 0.0007, val_auroc: 0.991\n",
      "Epoch 34 / 50, train_loss: 0.0026, train_auroc: 0.994, val_loss: 0.0007, val_auroc: 0.991\n",
      "Epoch 35 / 50, train_loss: 0.0025, train_auroc: 0.994, val_loss: 0.0008, val_auroc: 0.991\n",
      "Epoch 36 / 50, train_loss: 0.0024, train_auroc: 0.996, val_loss: 0.0007, val_auroc: 0.990\n",
      "Epoch 37 / 50, train_loss: 0.0025, train_auroc: 0.995, val_loss: 0.0007, val_auroc: 0.991\n",
      "Epoch 38 / 50, train_loss: 0.0024, train_auroc: 0.995, val_loss: 0.0007, val_auroc: 0.991\n",
      "Epoch 39 / 50, train_loss: 0.0024, train_auroc: 0.996, val_loss: 0.0007, val_auroc: 0.991\n",
      "Epoch 40 / 50, train_loss: 0.0025, train_auroc: 0.995, val_loss: 0.0007, val_auroc: 0.991\n",
      "Epoch 41 / 50, train_loss: 0.0024, train_auroc: 0.995, val_loss: 0.0007, val_auroc: 0.991\n",
      "Epoch 42 / 50, train_loss: 0.0025, train_auroc: 0.995, val_loss: 0.0007, val_auroc: 0.991\n",
      "Epoch 43 / 50, train_loss: 0.0024, train_auroc: 0.995, val_loss: 0.0007, val_auroc: 0.991\n",
      "Epoch 44 / 50, train_loss: 0.0024, train_auroc: 0.995, val_loss: 0.0007, val_auroc: 0.992\n",
      "Epoch 45 / 50, train_loss: 0.0025, train_auroc: 0.995, val_loss: 0.0007, val_auroc: 0.992\n",
      "Epoch 46 / 50, train_loss: 0.0024, train_auroc: 0.995, val_loss: 0.0007, val_auroc: 0.992\n",
      "Epoch 47 / 50, train_loss: 0.0026, train_auroc: 0.993, val_loss: 0.0007, val_auroc: 0.992\n",
      "Epoch 48 / 50, train_loss: 0.0025, train_auroc: 0.994, val_loss: 0.0007, val_auroc: 0.991\n",
      "Epoch 49 / 50, train_loss: 0.0024, train_auroc: 0.995, val_loss: 0.0007, val_auroc: 0.991\n",
      "Epoch 50 / 50, train_loss: 0.0025, train_auroc: 0.994, val_loss: 0.0007, val_auroc: 0.992\n",
      "Test AUROC: 0.797\n"
     ]
    }
   ],
   "source": [
    "model, train_results, test_results = train_test_model('config_unimab_small.json')"
   ]
  },
  {
   "cell_type": "code",
   "execution_count": 3,
   "metadata": {},
   "outputs": [
    {
     "name": "stdout",
     "output_type": "stream",
     "text": [
      "Epoch 1 / 50, train_loss: 0.0134, train_auroc: 0.933, val_loss: 0.0021, val_auroc: 0.993\n",
      "Epoch 2 / 50, train_loss: 0.0069, train_auroc: 0.995, val_loss: 0.0013, val_auroc: 0.998\n",
      "Epoch 3 / 50, train_loss: 0.0047, train_auroc: 0.999, val_loss: 0.0009, val_auroc: 1.000\n",
      "Epoch 4 / 50, train_loss: 0.0035, train_auroc: 0.999, val_loss: 0.0007, val_auroc: 0.999\n",
      "Epoch 5 / 50, train_loss: 0.0027, train_auroc: 0.999, val_loss: 0.0005, val_auroc: 0.999\n",
      "Epoch 6 / 50, train_loss: 0.0019, train_auroc: 1.000, val_loss: 0.0004, val_auroc: 0.999\n",
      "Epoch 7 / 50, train_loss: 0.0014, train_auroc: 1.000, val_loss: 0.0003, val_auroc: 0.998\n",
      "Epoch 8 / 50, train_loss: 0.0014, train_auroc: 1.000, val_loss: 0.0003, val_auroc: 1.000\n",
      "Epoch 9 / 50, train_loss: 0.0012, train_auroc: 1.000, val_loss: 0.0003, val_auroc: 0.998\n",
      "Epoch 10 / 50, train_loss: 0.0009, train_auroc: 1.000, val_loss: 0.0002, val_auroc: 0.999\n",
      "Epoch 11 / 50, train_loss: 0.0007, train_auroc: 1.000, val_loss: 0.0002, val_auroc: 1.000\n",
      "Epoch 12 / 50, train_loss: 0.0009, train_auroc: 1.000, val_loss: 0.0002, val_auroc: 0.999\n",
      "Epoch 13 / 50, train_loss: 0.0008, train_auroc: 1.000, val_loss: 0.0002, val_auroc: 0.998\n",
      "Epoch 14 / 50, train_loss: 0.0007, train_auroc: 1.000, val_loss: 0.0001, val_auroc: 0.999\n",
      "Epoch 15 / 50, train_loss: 0.0007, train_auroc: 1.000, val_loss: 0.0001, val_auroc: 0.998\n",
      "Epoch 16 / 50, train_loss: 0.0004, train_auroc: 1.000, val_loss: 0.0001, val_auroc: 1.000\n",
      "Epoch 17 / 50, train_loss: 0.0006, train_auroc: 1.000, val_loss: 0.0001, val_auroc: 0.999\n",
      "Epoch 18 / 50, train_loss: 0.0003, train_auroc: 1.000, val_loss: 0.0001, val_auroc: 0.999\n",
      "Epoch 19 / 50, train_loss: 0.0005, train_auroc: 1.000, val_loss: 0.0001, val_auroc: 0.998\n",
      "Epoch 20 / 50, train_loss: 0.0004, train_auroc: 1.000, val_loss: 0.0001, val_auroc: 0.999\n",
      "Epoch 21 / 50, train_loss: 0.0002, train_auroc: 1.000, val_loss: 0.0001, val_auroc: 0.997\n",
      "Epoch 22 / 50, train_loss: 0.0006, train_auroc: 0.999, val_loss: 0.0001, val_auroc: 0.999\n",
      "Epoch 23 / 50, train_loss: 0.0004, train_auroc: 1.000, val_loss: 0.0001, val_auroc: 0.999\n",
      "Epoch 24 / 50, train_loss: 0.0002, train_auroc: 1.000, val_loss: 0.0001, val_auroc: 0.998\n",
      "Epoch 25 / 50, train_loss: 0.0003, train_auroc: 1.000, val_loss: 0.0001, val_auroc: 0.999\n",
      "Epoch 26 / 50, train_loss: 0.0002, train_auroc: 1.000, val_loss: 0.0001, val_auroc: 1.000\n",
      "Epoch 27 / 50, train_loss: 0.0002, train_auroc: 1.000, val_loss: 0.0001, val_auroc: 0.999\n",
      "Epoch 28 / 50, train_loss: 0.0002, train_auroc: 1.000, val_loss: 0.0001, val_auroc: 0.999\n",
      "Epoch 29 / 50, train_loss: 0.0002, train_auroc: 1.000, val_loss: 0.0001, val_auroc: 0.999\n",
      "Epoch 30 / 50, train_loss: 0.0003, train_auroc: 1.000, val_loss: 0.0001, val_auroc: 0.999\n",
      "Epoch 31 / 50, train_loss: 0.0001, train_auroc: 1.000, val_loss: 0.0001, val_auroc: 1.000\n",
      "Epoch 32 / 50, train_loss: 0.0002, train_auroc: 1.000, val_loss: 0.0001, val_auroc: 0.999\n",
      "Epoch 33 / 50, train_loss: 0.0001, train_auroc: 1.000, val_loss: 0.0001, val_auroc: 0.999\n",
      "Epoch 34 / 50, train_loss: 0.0002, train_auroc: 1.000, val_loss: 0.0001, val_auroc: 0.997\n",
      "Epoch 35 / 50, train_loss: 0.0001, train_auroc: 1.000, val_loss: 0.0001, val_auroc: 0.999\n",
      "Epoch 36 / 50, train_loss: 0.0002, train_auroc: 1.000, val_loss: 0.0001, val_auroc: 1.000\n",
      "Epoch 37 / 50, train_loss: 0.0001, train_auroc: 1.000, val_loss: 0.0001, val_auroc: 0.999\n",
      "Epoch 38 / 50, train_loss: 0.0002, train_auroc: 1.000, val_loss: 0.0001, val_auroc: 0.999\n",
      "Epoch 39 / 50, train_loss: 0.0002, train_auroc: 1.000, val_loss: 0.0001, val_auroc: 0.998\n",
      "Epoch 40 / 50, train_loss: 0.0001, train_auroc: 1.000, val_loss: 0.0001, val_auroc: 0.999\n",
      "Epoch 41 / 50, train_loss: 0.0001, train_auroc: 1.000, val_loss: 0.0001, val_auroc: 0.999\n",
      "Epoch 42 / 50, train_loss: 0.0002, train_auroc: 1.000, val_loss: 0.0001, val_auroc: 0.999\n",
      "Epoch 43 / 50, train_loss: 0.0001, train_auroc: 1.000, val_loss: 0.0001, val_auroc: 0.998\n",
      "Epoch 44 / 50, train_loss: 0.0002, train_auroc: 1.000, val_loss: 0.0001, val_auroc: 0.997\n",
      "Epoch 45 / 50, train_loss: 0.0003, train_auroc: 1.000, val_loss: 0.0001, val_auroc: 1.000\n",
      "Epoch 46 / 50, train_loss: 0.0001, train_auroc: 1.000, val_loss: 0.0001, val_auroc: 1.000\n",
      "Epoch 47 / 50, train_loss: 0.0002, train_auroc: 1.000, val_loss: 0.0001, val_auroc: 1.000\n",
      "Epoch 48 / 50, train_loss: 0.0001, train_auroc: 1.000, val_loss: 0.0001, val_auroc: 1.000\n",
      "Epoch 49 / 50, train_loss: 0.0003, train_auroc: 1.000, val_loss: 0.0001, val_auroc: 0.999\n",
      "Epoch 50 / 50, train_loss: 0.0001, train_auroc: 1.000, val_loss: 0.0001, val_auroc: 0.998\n",
      "Test AUROC: 0.884\n"
     ]
    }
   ],
   "source": [
    "model, train_results, test_results = train_test_model('config_unimab.json')"
   ]
  },
  {
   "cell_type": "code",
   "execution_count": null,
   "metadata": {},
   "outputs": [],
   "source": []
  }
 ],
 "metadata": {
  "kernelspec": {
   "display_name": "dl",
   "language": "python",
   "name": "dl"
  },
  "language_info": {
   "codemirror_mode": {
    "name": "ipython",
    "version": 3
   },
   "file_extension": ".py",
   "mimetype": "text/x-python",
   "name": "python",
   "nbconvert_exporter": "python",
   "pygments_lexer": "ipython3",
   "version": "3.8.6"
  }
 },
 "nbformat": 4,
 "nbformat_minor": 4
}
