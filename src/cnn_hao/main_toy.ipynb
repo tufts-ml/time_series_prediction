{
 "cells": [
  {
   "cell_type": "code",
   "execution_count": 1,
   "metadata": {},
   "outputs": [],
   "source": [
    "from trainer import train_test_model"
   ]
  },
  {
   "cell_type": "code",
   "execution_count": 2,
   "metadata": {},
   "outputs": [
    {
     "name": "stdout",
     "output_type": "stream",
     "text": [
      "Epoch 1 / 50, train_loss: 0.0857, train_auroc: 0.501, val_loss: 0.0220, val_auroc: 0.440\n",
      "Epoch 2 / 50, train_loss: 0.0845, train_auroc: 0.509, val_loss: 0.0214, val_auroc: 0.510\n",
      "Epoch 3 / 50, train_loss: 0.0822, train_auroc: 0.571, val_loss: 0.0212, val_auroc: 0.482\n",
      "Epoch 4 / 50, train_loss: 0.0805, train_auroc: 0.628, val_loss: 0.0215, val_auroc: 0.503\n",
      "Epoch 5 / 50, train_loss: 0.0787, train_auroc: 0.677, val_loss: 0.0210, val_auroc: 0.520\n",
      "Epoch 6 / 50, train_loss: 0.0752, train_auroc: 0.765, val_loss: 0.0206, val_auroc: 0.591\n",
      "Epoch 7 / 50, train_loss: 0.0738, train_auroc: 0.767, val_loss: 0.0210, val_auroc: 0.545\n",
      "Epoch 8 / 50, train_loss: 0.0708, train_auroc: 0.808, val_loss: 0.0207, val_auroc: 0.598\n",
      "Epoch 9 / 50, train_loss: 0.0686, train_auroc: 0.827, val_loss: 0.0211, val_auroc: 0.565\n",
      "Epoch 10 / 50, train_loss: 0.0658, train_auroc: 0.846, val_loss: 0.0207, val_auroc: 0.594\n",
      "Epoch 11 / 50, train_loss: 0.0653, train_auroc: 0.845, val_loss: 0.0215, val_auroc: 0.561\n",
      "Epoch 12 / 50, train_loss: 0.0636, train_auroc: 0.852, val_loss: 0.0217, val_auroc: 0.570\n",
      "Epoch 13 / 50, train_loss: 0.0610, train_auroc: 0.871, val_loss: 0.0208, val_auroc: 0.617\n",
      "Epoch 14 / 50, train_loss: 0.0605, train_auroc: 0.874, val_loss: 0.0216, val_auroc: 0.586\n",
      "Epoch 15 / 50, train_loss: 0.0582, train_auroc: 0.885, val_loss: 0.0212, val_auroc: 0.627\n",
      "Epoch 16 / 50, train_loss: 0.0567, train_auroc: 0.902, val_loss: 0.0225, val_auroc: 0.597\n",
      "Epoch 17 / 50, train_loss: 0.0562, train_auroc: 0.897, val_loss: 0.0212, val_auroc: 0.605\n",
      "Epoch 18 / 50, train_loss: 0.0554, train_auroc: 0.903, val_loss: 0.0226, val_auroc: 0.593\n",
      "Epoch 19 / 50, train_loss: 0.0552, train_auroc: 0.900, val_loss: 0.0219, val_auroc: 0.617\n",
      "Epoch 20 / 50, train_loss: 0.0541, train_auroc: 0.908, val_loss: 0.0217, val_auroc: 0.639\n",
      "Epoch 21 / 50, train_loss: 0.0539, train_auroc: 0.911, val_loss: 0.0215, val_auroc: 0.631\n",
      "Epoch 22 / 50, train_loss: 0.0539, train_auroc: 0.905, val_loss: 0.0214, val_auroc: 0.633\n",
      "Epoch 23 / 50, train_loss: 0.0504, train_auroc: 0.930, val_loss: 0.0212, val_auroc: 0.626\n",
      "Epoch 24 / 50, train_loss: 0.0508, train_auroc: 0.919, val_loss: 0.0223, val_auroc: 0.627\n",
      "Epoch 25 / 50, train_loss: 0.0528, train_auroc: 0.910, val_loss: 0.0217, val_auroc: 0.639\n",
      "Epoch 26 / 50, train_loss: 0.0498, train_auroc: 0.932, val_loss: 0.0212, val_auroc: 0.642\n",
      "Epoch 27 / 50, train_loss: 0.0499, train_auroc: 0.931, val_loss: 0.0215, val_auroc: 0.635\n",
      "Epoch 28 / 50, train_loss: 0.0483, train_auroc: 0.945, val_loss: 0.0204, val_auroc: 0.654\n",
      "Epoch 29 / 50, train_loss: 0.0491, train_auroc: 0.939, val_loss: 0.0206, val_auroc: 0.673\n",
      "Epoch 30 / 50, train_loss: 0.0469, train_auroc: 0.952, val_loss: 0.0214, val_auroc: 0.629\n",
      "Epoch 31 / 50, train_loss: 0.0467, train_auroc: 0.950, val_loss: 0.0219, val_auroc: 0.625\n",
      "Epoch 32 / 50, train_loss: 0.0462, train_auroc: 0.958, val_loss: 0.0208, val_auroc: 0.655\n",
      "Epoch 33 / 50, train_loss: 0.0450, train_auroc: 0.960, val_loss: 0.0211, val_auroc: 0.645\n",
      "Epoch 34 / 50, train_loss: 0.0455, train_auroc: 0.959, val_loss: 0.0214, val_auroc: 0.625\n",
      "Epoch 35 / 50, train_loss: 0.0472, train_auroc: 0.945, val_loss: 0.0213, val_auroc: 0.637\n",
      "Epoch 36 / 50, train_loss: 0.0441, train_auroc: 0.964, val_loss: 0.0209, val_auroc: 0.661\n",
      "Epoch 37 / 50, train_loss: 0.0441, train_auroc: 0.966, val_loss: 0.0215, val_auroc: 0.635\n",
      "Epoch 38 / 50, train_loss: 0.0469, train_auroc: 0.942, val_loss: 0.0211, val_auroc: 0.664\n",
      "Epoch 39 / 50, train_loss: 0.0452, train_auroc: 0.957, val_loss: 0.0214, val_auroc: 0.662\n",
      "Epoch 40 / 50, train_loss: 0.0446, train_auroc: 0.960, val_loss: 0.0205, val_auroc: 0.644\n",
      "Epoch 41 / 50, train_loss: 0.0443, train_auroc: 0.962, val_loss: 0.0215, val_auroc: 0.634\n",
      "Epoch 42 / 50, train_loss: 0.0421, train_auroc: 0.973, val_loss: 0.0225, val_auroc: 0.615\n",
      "Epoch 43 / 50, train_loss: 0.0449, train_auroc: 0.955, val_loss: 0.0210, val_auroc: 0.638\n",
      "Epoch 44 / 50, train_loss: 0.0450, train_auroc: 0.948, val_loss: 0.0216, val_auroc: 0.640\n",
      "Epoch 45 / 50, train_loss: 0.0425, train_auroc: 0.971, val_loss: 0.0230, val_auroc: 0.647\n",
      "Epoch 46 / 50, train_loss: 0.0449, train_auroc: 0.956, val_loss: 0.0227, val_auroc: 0.617\n",
      "Epoch 47 / 50, train_loss: 0.0438, train_auroc: 0.961, val_loss: 0.0225, val_auroc: 0.619\n",
      "Epoch 48 / 50, train_loss: 0.0444, train_auroc: 0.959, val_loss: 0.0204, val_auroc: 0.664\n",
      "Epoch 49 / 50, train_loss: 0.0441, train_auroc: 0.961, val_loss: 0.0213, val_auroc: 0.648\n",
      "Epoch 50 / 50, train_loss: 0.0443, train_auroc: 0.959, val_loss: 0.0236, val_auroc: 0.589\n",
      "Test AUROC: 0.624\n"
     ]
    }
   ],
   "source": [
    "model_1, train_results_1, test_results_1 = train_test_model('config_toy_1.json')"
   ]
  },
  {
   "cell_type": "code",
   "execution_count": 4,
   "metadata": {},
   "outputs": [
    {
     "name": "stdout",
     "output_type": "stream",
     "text": [
      "Epoch 1 / 50, train_loss: 0.0234, train_auroc: 0.513, val_loss: 0.0057, val_auroc: 0.583\n",
      "Epoch 2 / 50, train_loss: 0.0216, train_auroc: 0.676, val_loss: 0.0055, val_auroc: 0.600\n",
      "Epoch 3 / 50, train_loss: 0.0201, train_auroc: 0.800, val_loss: 0.0053, val_auroc: 0.621\n",
      "Epoch 4 / 50, train_loss: 0.0186, train_auroc: 0.885, val_loss: 0.0053, val_auroc: 0.637\n",
      "Epoch 5 / 50, train_loss: 0.0170, train_auroc: 0.936, val_loss: 0.0053, val_auroc: 0.661\n",
      "Epoch 6 / 50, train_loss: 0.0155, train_auroc: 0.971, val_loss: 0.0051, val_auroc: 0.659\n",
      "Epoch 7 / 50, train_loss: 0.0141, train_auroc: 0.988, val_loss: 0.0053, val_auroc: 0.660\n",
      "Epoch 8 / 50, train_loss: 0.0128, train_auroc: 0.993, val_loss: 0.0052, val_auroc: 0.668\n",
      "Epoch 9 / 50, train_loss: 0.0115, train_auroc: 0.998, val_loss: 0.0052, val_auroc: 0.661\n",
      "Epoch 10 / 50, train_loss: 0.0105, train_auroc: 0.999, val_loss: 0.0053, val_auroc: 0.652\n",
      "Epoch 11 / 50, train_loss: 0.0097, train_auroc: 1.000, val_loss: 0.0052, val_auroc: 0.664\n",
      "Epoch 12 / 50, train_loss: 0.0086, train_auroc: 1.000, val_loss: 0.0051, val_auroc: 0.661\n",
      "Epoch 13 / 50, train_loss: 0.0077, train_auroc: 1.000, val_loss: 0.0053, val_auroc: 0.653\n",
      "Epoch 14 / 50, train_loss: 0.0072, train_auroc: 1.000, val_loss: 0.0051, val_auroc: 0.664\n",
      "Epoch 15 / 50, train_loss: 0.0066, train_auroc: 1.000, val_loss: 0.0050, val_auroc: 0.675\n",
      "Epoch 16 / 50, train_loss: 0.0062, train_auroc: 1.000, val_loss: 0.0051, val_auroc: 0.664\n",
      "Epoch 17 / 50, train_loss: 0.0058, train_auroc: 1.000, val_loss: 0.0054, val_auroc: 0.670\n",
      "Epoch 18 / 50, train_loss: 0.0056, train_auroc: 1.000, val_loss: 0.0052, val_auroc: 0.661\n",
      "Epoch 19 / 50, train_loss: 0.0054, train_auroc: 1.000, val_loss: 0.0052, val_auroc: 0.677\n",
      "Epoch 20 / 50, train_loss: 0.0052, train_auroc: 1.000, val_loss: 0.0055, val_auroc: 0.670\n",
      "Epoch 21 / 50, train_loss: 0.0051, train_auroc: 1.000, val_loss: 0.0053, val_auroc: 0.682\n",
      "Epoch 22 / 50, train_loss: 0.0052, train_auroc: 1.000, val_loss: 0.0054, val_auroc: 0.668\n",
      "Epoch 23 / 50, train_loss: 0.0053, train_auroc: 1.000, val_loss: 0.0057, val_auroc: 0.655\n",
      "Epoch 24 / 50, train_loss: 0.0053, train_auroc: 1.000, val_loss: 0.0056, val_auroc: 0.678\n",
      "Epoch 25 / 50, train_loss: 0.0051, train_auroc: 1.000, val_loss: 0.0053, val_auroc: 0.680\n",
      "Epoch 26 / 50, train_loss: 0.0048, train_auroc: 1.000, val_loss: 0.0057, val_auroc: 0.676\n",
      "Epoch 27 / 50, train_loss: 0.0045, train_auroc: 1.000, val_loss: 0.0054, val_auroc: 0.679\n",
      "Epoch 28 / 50, train_loss: 0.0043, train_auroc: 1.000, val_loss: 0.0056, val_auroc: 0.683\n",
      "Epoch 29 / 50, train_loss: 0.0044, train_auroc: 1.000, val_loss: 0.0058, val_auroc: 0.681\n",
      "Epoch 30 / 50, train_loss: 0.0042, train_auroc: 1.000, val_loss: 0.0054, val_auroc: 0.675\n",
      "Epoch 31 / 50, train_loss: 0.0044, train_auroc: 1.000, val_loss: 0.0059, val_auroc: 0.677\n",
      "Epoch 32 / 50, train_loss: 0.0042, train_auroc: 1.000, val_loss: 0.0057, val_auroc: 0.680\n",
      "Epoch 33 / 50, train_loss: 0.0041, train_auroc: 1.000, val_loss: 0.0056, val_auroc: 0.666\n",
      "Epoch 34 / 50, train_loss: 0.0042, train_auroc: 1.000, val_loss: 0.0059, val_auroc: 0.690\n",
      "Epoch 35 / 50, train_loss: 0.0040, train_auroc: 1.000, val_loss: 0.0054, val_auroc: 0.673\n",
      "Epoch 36 / 50, train_loss: 0.0041, train_auroc: 1.000, val_loss: 0.0056, val_auroc: 0.677\n",
      "Epoch 37 / 50, train_loss: 0.0041, train_auroc: 1.000, val_loss: 0.0059, val_auroc: 0.665\n",
      "Epoch 38 / 50, train_loss: 0.0040, train_auroc: 1.000, val_loss: 0.0055, val_auroc: 0.670\n",
      "Epoch 39 / 50, train_loss: 0.0041, train_auroc: 1.000, val_loss: 0.0053, val_auroc: 0.680\n",
      "Epoch 40 / 50, train_loss: 0.0040, train_auroc: 1.000, val_loss: 0.0059, val_auroc: 0.673\n",
      "Epoch 41 / 50, train_loss: 0.0039, train_auroc: 1.000, val_loss: 0.0057, val_auroc: 0.680\n",
      "Epoch 42 / 50, train_loss: 0.0040, train_auroc: 1.000, val_loss: 0.0058, val_auroc: 0.679\n",
      "Epoch 43 / 50, train_loss: 0.0040, train_auroc: 1.000, val_loss: 0.0052, val_auroc: 0.681\n",
      "Epoch 44 / 50, train_loss: 0.0039, train_auroc: 1.000, val_loss: 0.0055, val_auroc: 0.679\n",
      "Epoch 45 / 50, train_loss: 0.0040, train_auroc: 1.000, val_loss: 0.0056, val_auroc: 0.681\n",
      "Epoch 46 / 50, train_loss: 0.0039, train_auroc: 1.000, val_loss: 0.0056, val_auroc: 0.675\n",
      "Epoch 47 / 50, train_loss: 0.0039, train_auroc: 1.000, val_loss: 0.0053, val_auroc: 0.694\n",
      "Epoch 48 / 50, train_loss: 0.0039, train_auroc: 1.000, val_loss: 0.0056, val_auroc: 0.677\n",
      "Epoch 49 / 50, train_loss: 0.0039, train_auroc: 1.000, val_loss: 0.0053, val_auroc: 0.678\n",
      "Epoch 50 / 50, train_loss: 0.0039, train_auroc: 1.000, val_loss: 0.0057, val_auroc: 0.675\n",
      "Test AUROC: 0.666\n"
     ]
    }
   ],
   "source": [
    "model_2, train_results_2, test_results_2 = train_test_model('config_toy_2.json')"
   ]
  },
  {
   "cell_type": "code",
   "execution_count": null,
   "metadata": {},
   "outputs": [],
   "source": []
  }
 ],
 "metadata": {
  "kernelspec": {
   "display_name": "dl",
   "language": "python",
   "name": "dl"
  },
  "language_info": {
   "codemirror_mode": {
    "name": "ipython",
    "version": 3
   },
   "file_extension": ".py",
   "mimetype": "text/x-python",
   "name": "python",
   "nbconvert_exporter": "python",
   "pygments_lexer": "ipython3",
   "version": "3.8.6"
  }
 },
 "nbformat": 4,
 "nbformat_minor": 4
}
