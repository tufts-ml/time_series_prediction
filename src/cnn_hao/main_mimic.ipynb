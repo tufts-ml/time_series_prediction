{
 "cells": [
  {
   "cell_type": "code",
   "execution_count": 1,
   "metadata": {},
   "outputs": [],
   "source": [
    "from trainer import train_test_model"
   ]
  },
  {
   "cell_type": "code",
   "execution_count": 2,
   "metadata": {},
   "outputs": [
    {
     "name": "stdout",
     "output_type": "stream",
     "text": [
      "Epoch 1 / 50, train_loss: 0.0102, train_auroc: 0.507, val_loss: 0.0026, val_auroc: 0.499\n",
      "Epoch 2 / 50, train_loss: 0.0099, train_auroc: 0.522, val_loss: 0.0026, val_auroc: 0.509\n",
      "Epoch 3 / 50, train_loss: 0.0098, train_auroc: 0.530, val_loss: 0.0026, val_auroc: 0.501\n",
      "Epoch 4 / 50, train_loss: 0.0098, train_auroc: 0.535, val_loss: 0.0026, val_auroc: 0.491\n",
      "Epoch 5 / 50, train_loss: 0.0098, train_auroc: 0.533, val_loss: 0.0026, val_auroc: 0.510\n",
      "Epoch 6 / 50, train_loss: 0.0098, train_auroc: 0.541, val_loss: 0.0026, val_auroc: 0.521\n",
      "Epoch 7 / 50, train_loss: 0.0098, train_auroc: 0.547, val_loss: 0.0026, val_auroc: 0.522\n",
      "Epoch 8 / 50, train_loss: 0.0098, train_auroc: 0.550, val_loss: 0.0026, val_auroc: 0.507\n",
      "Epoch 9 / 50, train_loss: 0.0097, train_auroc: 0.567, val_loss: 0.0026, val_auroc: 0.498\n",
      "Epoch 10 / 50, train_loss: 0.0097, train_auroc: 0.570, val_loss: 0.0026, val_auroc: 0.509\n",
      "Epoch 11 / 50, train_loss: 0.0097, train_auroc: 0.581, val_loss: 0.0026, val_auroc: 0.496\n",
      "Epoch 12 / 50, train_loss: 0.0097, train_auroc: 0.587, val_loss: 0.0026, val_auroc: 0.506\n",
      "Epoch 13 / 50, train_loss: 0.0096, train_auroc: 0.595, val_loss: 0.0026, val_auroc: 0.500\n",
      "Epoch 14 / 50, train_loss: 0.0096, train_auroc: 0.602, val_loss: 0.0026, val_auroc: 0.503\n",
      "Epoch 15 / 50, train_loss: 0.0096, train_auroc: 0.605, val_loss: 0.0026, val_auroc: 0.519\n",
      "Epoch 16 / 50, train_loss: 0.0095, train_auroc: 0.618, val_loss: 0.0026, val_auroc: 0.506\n",
      "Epoch 17 / 50, train_loss: 0.0095, train_auroc: 0.626, val_loss: 0.0026, val_auroc: 0.514\n",
      "Epoch 18 / 50, train_loss: 0.0094, train_auroc: 0.639, val_loss: 0.0026, val_auroc: 0.501\n",
      "Epoch 19 / 50, train_loss: 0.0094, train_auroc: 0.642, val_loss: 0.0026, val_auroc: 0.497\n",
      "Epoch 20 / 50, train_loss: 0.0094, train_auroc: 0.635, val_loss: 0.0027, val_auroc: 0.512\n",
      "Epoch 21 / 50, train_loss: 0.0094, train_auroc: 0.646, val_loss: 0.0027, val_auroc: 0.498\n",
      "Epoch 22 / 50, train_loss: 0.0094, train_auroc: 0.650, val_loss: 0.0026, val_auroc: 0.498\n",
      "Epoch 23 / 50, train_loss: 0.0093, train_auroc: 0.657, val_loss: 0.0026, val_auroc: 0.505\n",
      "Epoch 24 / 50, train_loss: 0.0093, train_auroc: 0.666, val_loss: 0.0026, val_auroc: 0.519\n",
      "Epoch 25 / 50, train_loss: 0.0093, train_auroc: 0.671, val_loss: 0.0027, val_auroc: 0.509\n",
      "Epoch 26 / 50, train_loss: 0.0090, train_auroc: 0.710, val_loss: 0.0027, val_auroc: 0.508\n",
      "Epoch 27 / 50, train_loss: 0.0089, train_auroc: 0.724, val_loss: 0.0027, val_auroc: 0.509\n",
      "Epoch 28 / 50, train_loss: 0.0089, train_auroc: 0.731, val_loss: 0.0028, val_auroc: 0.509\n",
      "Epoch 29 / 50, train_loss: 0.0088, train_auroc: 0.733, val_loss: 0.0028, val_auroc: 0.511\n",
      "Epoch 30 / 50, train_loss: 0.0088, train_auroc: 0.731, val_loss: 0.0028, val_auroc: 0.510\n",
      "Epoch 31 / 50, train_loss: 0.0088, train_auroc: 0.737, val_loss: 0.0028, val_auroc: 0.510\n",
      "Epoch 32 / 50, train_loss: 0.0088, train_auroc: 0.738, val_loss: 0.0028, val_auroc: 0.508\n",
      "Epoch 33 / 50, train_loss: 0.0088, train_auroc: 0.739, val_loss: 0.0028, val_auroc: 0.513\n",
      "Epoch 34 / 50, train_loss: 0.0087, train_auroc: 0.743, val_loss: 0.0028, val_auroc: 0.510\n",
      "Epoch 35 / 50, train_loss: 0.0087, train_auroc: 0.746, val_loss: 0.0029, val_auroc: 0.508\n",
      "Epoch 36 / 50, train_loss: 0.0087, train_auroc: 0.747, val_loss: 0.0029, val_auroc: 0.509\n",
      "Epoch 37 / 50, train_loss: 0.0087, train_auroc: 0.749, val_loss: 0.0029, val_auroc: 0.508\n",
      "Epoch 38 / 50, train_loss: 0.0087, train_auroc: 0.749, val_loss: 0.0029, val_auroc: 0.507\n",
      "Epoch 39 / 50, train_loss: 0.0086, train_auroc: 0.752, val_loss: 0.0029, val_auroc: 0.506\n",
      "Epoch 40 / 50, train_loss: 0.0086, train_auroc: 0.752, val_loss: 0.0029, val_auroc: 0.506\n",
      "Epoch 41 / 50, train_loss: 0.0086, train_auroc: 0.754, val_loss: 0.0029, val_auroc: 0.506\n",
      "Epoch 42 / 50, train_loss: 0.0086, train_auroc: 0.757, val_loss: 0.0029, val_auroc: 0.501\n",
      "Epoch 43 / 50, train_loss: 0.0086, train_auroc: 0.757, val_loss: 0.0029, val_auroc: 0.502\n",
      "Epoch 44 / 50, train_loss: 0.0085, train_auroc: 0.761, val_loss: 0.0030, val_auroc: 0.503\n",
      "Epoch 45 / 50, train_loss: 0.0085, train_auroc: 0.761, val_loss: 0.0030, val_auroc: 0.504\n",
      "Epoch 46 / 50, train_loss: 0.0085, train_auroc: 0.762, val_loss: 0.0029, val_auroc: 0.504\n",
      "Epoch 47 / 50, train_loss: 0.0085, train_auroc: 0.764, val_loss: 0.0030, val_auroc: 0.503\n",
      "Epoch 48 / 50, train_loss: 0.0085, train_auroc: 0.764, val_loss: 0.0030, val_auroc: 0.505\n",
      "Epoch 49 / 50, train_loss: 0.0085, train_auroc: 0.765, val_loss: 0.0030, val_auroc: 0.505\n",
      "Epoch 50 / 50, train_loss: 0.0085, train_auroc: 0.768, val_loss: 0.0030, val_auroc: 0.502\n",
      "Test AUROC: 0.534\n"
     ]
    }
   ],
   "source": [
    "model, train_results, test_results = train_test_model('config_mimic.json')"
   ]
  },
  {
   "cell_type": "code",
   "execution_count": null,
   "metadata": {},
   "outputs": [],
   "source": []
  }
 ],
 "metadata": {
  "kernelspec": {
   "display_name": "dl",
   "language": "python",
   "name": "dl"
  },
  "language_info": {
   "codemirror_mode": {
    "name": "ipython",
    "version": 3
   },
   "file_extension": ".py",
   "mimetype": "text/x-python",
   "name": "python",
   "nbconvert_exporter": "python",
   "pygments_lexer": "ipython3",
   "version": "3.8.6"
  }
 },
 "nbformat": 4,
 "nbformat_minor": 4
}
