{
 "cells": [
  {
   "cell_type": "code",
   "execution_count": 2,
   "metadata": {},
   "outputs": [
    {
     "name": "stderr",
     "output_type": "stream",
     "text": [
      "<ipython-input-2-a8a8fc73b38a>:13: FutureWarning: Passing a negative integer is deprecated in version 1.0 and will not be supported in future version. Instead, use None to not limit the column width.\n",
      "  pd.set_option('display.max_colwidth', -1)\n"
     ]
    }
   ],
   "source": [
    "import pandas as pd\n",
    "import numpy as np\n",
    "import os\n",
    "import matplotlib.pyplot as plt\n",
    "from sklearn.linear_model import Lasso\n",
    "from sklearn.pipeline import Pipeline\n",
    "from sklearn.preprocessing import StandardScaler, MaxAbsScaler\n",
    "import time\n",
    "import sys\n",
    "from sklearn.model_selection import GridSearchCV, KFold\n",
    "sys.path.append(os.path.join(os.path.abspath('../'), 'predictions_collapsed'))\n",
    "import matplotlib.pyplot as plt\n",
    "pd.set_option('display.max_colwidth', -1)\n",
    "import glob\n",
    "\n",
    "from config_loader import (\n",
    "    D_CONFIG,\n",
    "    DATASET_SITE_PATH, DATASET_SPLIT_PATH,\n",
    "    DATASET_FEAT_PER_TSLICE_PATH,\n",
    "    PROJECT_REPO_DIR, PROJECT_CONDA_ENV_YAML,\n",
    "    RESULTS_SPLIT_PATH, RESULTS_FEAT_PER_TSTEP_PATH)\n",
    "\n",
    "sys.path.append(os.path.join(PROJECT_REPO_DIR, 'src'))\n",
    "from feature_transformation import *\n",
    "\n",
    "\n",
    "%matplotlib inline"
   ]
  },
  {
   "cell_type": "code",
   "execution_count": 7,
   "metadata": {},
   "outputs": [],
   "source": [
    "# get the train test validation labels\n",
    "y_train_df = pd.read_csv('/home/prash/datasets/v20211018/HUF/split-by=patient_id/collapsed_features_dynamic_input_output/classifier_train_test_split/y_train.csv.gz', \n",
    "                         nrows=200000)\n",
    "y_dict = json.load(open(('/home/prash/datasets/v20211018/HUF/split-by=patient_id/collapsed_features_dynamic_input_output/classifier_train_test_split/y_dict.json')))\n",
    "# y_valid_df = pd.read_csv('/home/prash/datasets/v20211018/HUF/split-by=patient_id/collapsed_features_dynamic_input_output/classifier_train_test_split/y_valid.csv.gz')\n",
    "# y_test_df = pd.read_csv('/home/prash/datasets/v20211018/HUF/split-by=patient_id/collapsed_features_dynamic_input_output/classifier_train_test_split/y_test.csv.gz')\n",
    "\n",
    "x_train_df = pd.read_csv('/home/prash/datasets/v20211018/HUF/split-by=patient_id/collapsed_features_dynamic_input_output/classifier_train_test_split/x_train.csv.gz', \n",
    "                         nrows=200000)\n",
    "x_dict = json.load(open(('/home/prash/datasets/v20211018/HUF/split-by=patient_id/collapsed_features_dynamic_input_output/classifier_train_test_split/x_dict.json')))\n",
    "\n",
    "# x_valid_df = pd.read_csv('/home/prash/datasets/v20211018/HUF/split-by=patient_id/collapsed_features_dynamic_input_output/classifier_train_test_split/x_valid.csv.gz')\n",
    "# x_test_df = pd.read_csv('/home/prash/datasets/v20211018/HUF/split-by=patient_id/collapsed_features_dynamic_input_output/classifier_train_test_split/x_test.csv.gz')"
   ]
  },
  {
   "cell_type": "code",
   "execution_count": 4,
   "metadata": {},
   "outputs": [],
   "source": [
    "def lasso_regression_multi_train_test_splits(\n",
    "        X_train, y_train, n_trials, n_cv_folds,\n",
    "        gridsearchvalues__alpha=np.logspace(-5, 5, 5),\n",
    "        x_feature_transform='none',\n",
    "        scoring_metric='mean_squared_error'):\n",
    "    \"\"\" Perform nested cross-validation to train Lasso predictor given a fixed training set\n",
    "    Returns\n",
    "    -------\n",
    "    best_regressor_per_trial : list\n",
    "    perf_dict_per_trial : list\n",
    "    \"\"\"\n",
    "    start_time_sec = time.time()\n",
    "\n",
    "    print(\"Fitting Lasso with %d trials of %d-fold nested cross validation\" % (\n",
    "        n_trials, n_cv_folds))\n",
    "\n",
    "    # Parameter grid to consider on each inner heldout fold\n",
    "    if isinstance(gridsearchvalues__alpha, str):\n",
    "        if gridsearchvalues__alpha.count(\"logspace\"):\n",
    "            gsv = gridsearchvalues__alpha.replace(\"logspace\", \"\")\n",
    "            gsv = gsv.replace(\"(\", \"\")\n",
    "            gsv = gsv.replace(\")\", \"\")\n",
    "            amin, amax, anum = map(float, gsv.split(','))\n",
    "            anum = int(anum)\n",
    "            alpha_grid = np.logspace(amin, amax, anum).astype(np.float64)\n",
    "        elif gridsearchvalues__alpha.count(\"linspace\"):\n",
    "            gsv = gridsearchvalues__alpha.replace(\"linspace\", \"\")\n",
    "            gsv = gsv.replace(\"(\", \"\")\n",
    "            gsv = gsv.replace(\")\", \"\")\n",
    "            amin, amax, anum = map(float, gsv.split(','))\n",
    "            anum = int(anum)\n",
    "            alpha_grid = np.linspace(amin, amax, anum).astype(np.float64)\n",
    "        else:\n",
    "            alpha_grid = np.asarray(\n",
    "                list(map(float, gridsearchvalues__alpha.split(\",\"))),\n",
    "                dtype=np.float64)\n",
    "    else:\n",
    "        alpha_grid = np.asarray(gridsearchvalues__alpha, dtype=np.float64)\n",
    "    alpha_str = ','.join(['%.3g' % a for a in alpha_grid[:3]])\n",
    "    if alpha_grid.size > 5:\n",
    "        alpha_str += ',' + '...'\n",
    "    if alpha_grid.size > 3:\n",
    "        M = np.maximum(3, alpha_grid.size - 2)\n",
    "        alpha_str += ',' + ','.join(['%.3g' % a for a in alpha_grid[M:]])\n",
    "    print(\"Selecting parameter 'alpha' based on grid search over %d param values:\\n%s\" % (\n",
    "        alpha_grid.size, alpha_str))\n",
    "    param_grid = [{'regressor__alpha': alpha_grid}]\n",
    "    \n",
    "    # Arrays to store scores\n",
    "    best_regressors = [None for _ in range(n_trials)]\n",
    "    outer_perf_dict_list = [None for _ in range(n_trials)]\n",
    "    inner_perf_df_list = [None for _ in range(n_trials)]\n",
    "\n",
    "    # Loop for each trial\n",
    "    for i in range(n_trials):\n",
    "      \n",
    "        # Perform OUTER train-test split\n",
    "        # If we use a test size of 1/(K+1)\n",
    "        # Then we'll get heldout folds of the same size as the inner heldout folds with K-fold CV\n",
    "        # Why?\n",
    "        # Outer fold takes 1/(K+1) of N examples\n",
    "        # Inner fold takes 1/K of ( K/(K+1) * N ) examples = 1/(K+1) * N\n",
    "#         X_train, X_test, y_train, y_test = train_test_split(X, y, test_size=(1.0/(1+n_cv_folds)), random_state=i)  \n",
    "\n",
    "        # create a cv splitter object \n",
    "        inner_cv_splitter = KFold(n_splits=n_cv_folds, shuffle=True, random_state=i)\n",
    "        \n",
    "        # STEP 1 in pipeline: \n",
    "        step_list = list()\n",
    "        if x_feature_transform.startswith('standardize'):\n",
    "            ## Scale the input features to have zero mean/unit variance\n",
    "            scaler_x = StandardScaler()\n",
    "            step_list.append(('standardize', scaler_x))\n",
    "        elif x_feature_transform == 'scale_0_to_1':\n",
    "            ## Scale the input features to have min zero and max one\n",
    "            scaler_x = MaxAbsScaler()\n",
    "            step_list.append(('scale_0_to_1', scaler_x))\n",
    "        elif x_feature_transform == 'none':\n",
    "            pass\n",
    "        else:\n",
    "            raise ValueError(\"Unrecognized value: 'x_feature_transform'=%s\" % x_feature_transform)\n",
    "        \n",
    "        # STEP 2 in pipeline: Define the predictor from input to output\n",
    "        step_list.append(('regressor', Lasso(max_iter=1000000, tol=0.001, selection='cyclic')))\n",
    "\n",
    "        ## Create Pipeline regressor as composition of steps\n",
    "        prediction_pipeline = Pipeline(step_list)\n",
    "\n",
    "        ## Prepare for n-fold cross validation\n",
    "        if scoring_metric == 'mean_absolute_error':\n",
    "            scoring = 'neg_mean_absolute_error'\n",
    "            baseline_func = np.median\n",
    "        elif scoring_metric == 'mean_squared_error':\n",
    "            scoring = 'neg_mean_squared_error'\n",
    "            baseline_func = np.mean\n",
    "        else:\n",
    "            raise ValueError(\"Unrecognized value: 'scoring_metric'=%s\" % scoring_metric)\n",
    "\n",
    "        regressor_with_grid_search = GridSearchCV(\n",
    "                prediction_pipeline, param_grid,\n",
    "                cv=inner_cv_splitter,\n",
    "                scoring=scoring,\n",
    "                return_train_score=True,\n",
    "                iid=False,\n",
    "                refit=True)\n",
    "        regressor_with_grid_search.fit(X_train, y_train)\n",
    "\n",
    "        best_i = regressor_with_grid_search.best_index_\n",
    "        inner_cv_df = pd.DataFrame(regressor_with_grid_search.cv_results_)\n",
    "        perf_at_best_df = inner_cv_df.iloc[best_i:(best_i+1)].copy()\n",
    "\n",
    "        best_regressors[i] = regressor_with_grid_search.best_estimator_\n",
    "        outer_train_score = regressor_with_grid_search.score(X_train, y_train)\n",
    "        outer_test_score = regressor_with_grid_search.score(X_test, y_test)\n",
    "        cur_perf = OrderedDict()\n",
    "        cur_perf['trial_id'] = i\n",
    "        for mname, metric_func in [\n",
    "                ('mse', mean_squared_error),\n",
    "                ('mae', mean_absolute_error)\n",
    "                ]:\n",
    "            yhat_train = best_regressors[i].predict(X_train)\n",
    "            yhat_test = best_regressors[i].predict(X_test)\n",
    "            cur_perf['train_%s' % mname] = metric_func(y_train, yhat_train)\n",
    "            cur_perf['test_%s' % mname] = metric_func(y_test, yhat_test)\n",
    "        cur_perf['train_size'] = y_train.size\n",
    "        cur_perf['test_size'] = y_test.size\n",
    "\n",
    "        cur_perf['outer_train_score'] = -1 * outer_train_score\n",
    "        cur_perf['outer_test_score'] = -1 * outer_test_score\n",
    "        cur_perf['inner_mean_train_score'] = -1 * perf_at_best_df['mean_train_score'].values[0]\n",
    "        cur_perf['inner_mean_test_score'] = -1 * perf_at_best_df['mean_test_score'].values[0]\n",
    "        tr_vals = np.zeros(n_cv_folds)\n",
    "        te_vals = np.zeros(n_cv_folds)\n",
    "        for ss in range(n_cv_folds):\n",
    "            key = 'split%d' % ss\n",
    "            tr_vals[ss] = -1 * perf_at_best_df['%s_train_score' % key].values[0]\n",
    "            te_vals[ss] = -1 * perf_at_best_df['%s_test_score' % key].values[0]\n",
    "            cur_perf['inner_%s_train_score' % key] = tr_vals[ss]\n",
    "            cur_perf['inner_%s_test_score' % key] = te_vals[ss]\n",
    "        for fname, func in [('min', np.min), ('max', np.max)]:\n",
    "            cur_perf['inner_%s_train_score' % fname] = func(tr_vals)\n",
    "            cur_perf['inner_%s_test_score' % fname] = func(te_vals)\n",
    "        outer_perf_dict_list[i] = cur_perf\n",
    "\n",
    "        cur_perf['outer_model_bias'] = best_regressors[i]['regressor'].intercept_\n",
    "        cur_perf['outer_model_num_nonzero_coef'] = np.sum(np.abs(best_regressors[i]['regressor'].coef_) > 1e-8)\n",
    "\n",
    "        for key in sorted(regressor_with_grid_search.best_params_.keys()):\n",
    "            cur_perf['outer_model_best_param__%s' % key] = regressor_with_grid_search.best_params_[key]\n",
    "\n",
    "        outer_perf_dict_list[i] = cur_perf\n",
    "        inner_perf_df_list[i] = inner_cv_df\n",
    "\n",
    "        print(\"completed trial %3d/%d after %8.0f sec | tr score %8.3f | te score %8.3f | nnz %6d\" % (\n",
    "            i + 1, n_trials, time.time() - start_time_sec, \n",
    "            cur_perf['outer_train_score'],\n",
    "            cur_perf['outer_test_score'],\n",
    "            cur_perf['outer_model_num_nonzero_coef'],\n",
    "            ))\n",
    "\n",
    "    outer_perf_df = pd.DataFrame(outer_perf_dict_list)\n",
    "    return best_regressors, outer_perf_df, inner_perf_df_list\n"
   ]
  },
  {
   "cell_type": "code",
   "execution_count": 8,
   "metadata": {},
   "outputs": [
    {
     "name": "stdout",
     "output_type": "stream",
     "text": [
      "Fitting 2 folds for each of 5 candidates, totalling 10 fits\n",
      "[CV] regressor__alpha=0.001 ..........................................\n"
     ]
    },
    {
     "name": "stderr",
     "output_type": "stream",
     "text": [
      "[Parallel(n_jobs=1)]: Using backend SequentialBackend with 1 concurrent workers.\n"
     ]
    },
    {
     "name": "stdout",
     "output_type": "stream",
     "text": [
      "[CV]  regressor__alpha=0.001, score=(train=-0.009, test=-0.071), total=  13.0s\n",
      "[CV] regressor__alpha=0.001 ..........................................\n"
     ]
    },
    {
     "name": "stderr",
     "output_type": "stream",
     "text": [
      "[Parallel(n_jobs=1)]: Done   1 out of   1 | elapsed:   14.7s remaining:    0.0s\n"
     ]
    },
    {
     "name": "stdout",
     "output_type": "stream",
     "text": [
      "[CV]  regressor__alpha=0.001, score=(train=-0.009, test=-0.044), total=  21.2s\n",
      "[CV] regressor__alpha=0.03162277660168379 ............................\n"
     ]
    },
    {
     "name": "stderr",
     "output_type": "stream",
     "text": [
      "[Parallel(n_jobs=1)]: Done   2 out of   2 | elapsed:   37.6s remaining:    0.0s\n"
     ]
    },
    {
     "name": "stdout",
     "output_type": "stream",
     "text": [
      "[CV]  regressor__alpha=0.03162277660168379, score=(train=-0.009, test=-0.009), total=   8.9s\n",
      "[CV] regressor__alpha=0.03162277660168379 ............................\n"
     ]
    },
    {
     "name": "stderr",
     "output_type": "stream",
     "text": [
      "[Parallel(n_jobs=1)]: Done   3 out of   3 | elapsed:   48.1s remaining:    0.0s\n"
     ]
    },
    {
     "name": "stdout",
     "output_type": "stream",
     "text": [
      "[CV]  regressor__alpha=0.03162277660168379, score=(train=-0.009, test=-0.009), total=   8.9s\n",
      "[CV] regressor__alpha=1.0 ............................................\n"
     ]
    },
    {
     "name": "stderr",
     "output_type": "stream",
     "text": [
      "[Parallel(n_jobs=1)]: Done   4 out of   4 | elapsed:   58.6s remaining:    0.0s\n"
     ]
    },
    {
     "name": "stdout",
     "output_type": "stream",
     "text": [
      "[CV]  regressor__alpha=1.0, score=(train=-0.009, test=-0.009), total=   8.8s\n",
      "[CV] regressor__alpha=1.0 ............................................\n"
     ]
    },
    {
     "name": "stderr",
     "output_type": "stream",
     "text": [
      "[Parallel(n_jobs=1)]: Done   5 out of   5 | elapsed:  1.2min remaining:    0.0s\n"
     ]
    },
    {
     "name": "stdout",
     "output_type": "stream",
     "text": [
      "[CV]  regressor__alpha=1.0, score=(train=-0.009, test=-0.009), total=   8.9s\n",
      "[CV] regressor__alpha=31.622776601683793 .............................\n"
     ]
    },
    {
     "name": "stderr",
     "output_type": "stream",
     "text": [
      "[Parallel(n_jobs=1)]: Done   6 out of   6 | elapsed:  1.3min remaining:    0.0s\n"
     ]
    },
    {
     "name": "stdout",
     "output_type": "stream",
     "text": [
      "[CV]  regressor__alpha=31.622776601683793, score=(train=-0.009, test=-0.009), total=   8.8s\n",
      "[CV] regressor__alpha=31.622776601683793 .............................\n"
     ]
    },
    {
     "name": "stderr",
     "output_type": "stream",
     "text": [
      "[Parallel(n_jobs=1)]: Done   7 out of   7 | elapsed:  1.5min remaining:    0.0s\n"
     ]
    },
    {
     "name": "stdout",
     "output_type": "stream",
     "text": [
      "[CV]  regressor__alpha=31.622776601683793, score=(train=-0.009, test=-0.009), total=   8.8s\n",
      "[CV] regressor__alpha=1000.0 .........................................\n"
     ]
    },
    {
     "name": "stderr",
     "output_type": "stream",
     "text": [
      "[Parallel(n_jobs=1)]: Done   8 out of   8 | elapsed:  1.7min remaining:    0.0s\n"
     ]
    },
    {
     "name": "stdout",
     "output_type": "stream",
     "text": [
      "[CV]  regressor__alpha=1000.0, score=(train=-0.009, test=-0.009), total=   8.8s\n",
      "[CV] regressor__alpha=1000.0 .........................................\n"
     ]
    },
    {
     "name": "stderr",
     "output_type": "stream",
     "text": [
      "[Parallel(n_jobs=1)]: Done   9 out of   9 | elapsed:  1.9min remaining:    0.0s\n"
     ]
    },
    {
     "name": "stdout",
     "output_type": "stream",
     "text": [
      "[CV]  regressor__alpha=1000.0, score=(train=-0.009, test=-0.009), total=   8.8s\n"
     ]
    },
    {
     "name": "stderr",
     "output_type": "stream",
     "text": [
      "[Parallel(n_jobs=1)]: Done  10 out of  10 | elapsed:  2.0min finished\n",
      "/home/prash/.conda/envs/madrid_data_prep/lib/python3.8/site-packages/sklearn/model_selection/_search.py:821: FutureWarning: The parameter 'iid' is deprecated in 0.22 and will be removed in 0.24.\n",
      "  warnings.warn(\n"
     ]
    },
    {
     "data": {
      "text/plain": [
       "GridSearchCV(cv=2, error_score=nan,\n",
       "             estimator=Pipeline(memory=None,\n",
       "                                steps=[('standardize',\n",
       "                                        StandardScaler(copy=True,\n",
       "                                                       with_mean=True,\n",
       "                                                       with_std=True)),\n",
       "                                       ('regressor',\n",
       "                                        Lasso(alpha=1.0, copy_X=True,\n",
       "                                              fit_intercept=True,\n",
       "                                              max_iter=100000, normalize=False,\n",
       "                                              positive=False, precompute=False,\n",
       "                                              random_state=None,\n",
       "                                              selection='cyclic', tol=0.0001,\n",
       "                                              warm_start=False))],\n",
       "                                verbose=False),\n",
       "             iid=False, n_jobs=None,\n",
       "             param_grid=[{'regressor__alpha': array([1.00000000e-03, 3.16227766e-02, 1.00000000e+00, 3.16227766e+01,\n",
       "       1.00000000e+03])}],\n",
       "             pre_dispatch='2*n_jobs', refit=True, return_train_score=True,\n",
       "             scoring='neg_mean_absolute_error', verbose=10)"
      ]
     },
     "execution_count": 8,
     "metadata": {},
     "output_type": "execute_result"
    }
   ],
   "source": [
    "# best_regressors, outer_perf_df, inner_perf_df_list= lasso_regression_multi_train_test_splits(x_train_df.iloc[:, 5:].values.astype(np.float32), \n",
    "#                                                                                              y_train_df['clinical_deterioration_outcome'].values, \n",
    "#                                                                                              n_trials=1, n_cv_folds=2,\n",
    "#                                                                                              gridsearchvalues__alpha=np.logspace(-5, 5, 5),\n",
    "#                                                                                              x_feature_transform='standardize',\n",
    "#                                                                                              scoring_metric='mean_squared_error')\n",
    "feature_cols = parse_feature_cols(x_dict)\n",
    "step_list = list()\n",
    "scaler_x = StandardScaler()\n",
    "step_list.append(('standardize', scaler_x))\n",
    "regressor=Lasso(max_iter=100000)\n",
    "gridsearchvalues__alpha=np.logspace(-5, 3, 5)\n",
    "alpha_grid = np.asarray(gridsearchvalues__alpha, dtype=np.float64)\n",
    "step_list.append(('regressor', regressor))\n",
    "param_grid = [{'regressor__alpha': alpha_grid}]\n",
    "\n",
    "scoring = 'neg_mean_absolute_error'\n",
    "\n",
    "\n",
    "prediction_pipeline = Pipeline(step_list)\n",
    "regressor_with_grid_search = GridSearchCV(\n",
    "        prediction_pipeline, param_grid,\n",
    "        scoring=scoring,\n",
    "        return_train_score=True,\n",
    "        iid=False,\n",
    "        refit=True, cv=2, verbose=10)\n",
    "regressor_with_grid_search.fit(x_train_df[feature_cols].values.astype(np.float32), \n",
    "                               y_train_df['clinical_deterioration_outcome'].values)"
   ]
  },
  {
   "cell_type": "code",
   "execution_count": 11,
   "metadata": {},
   "outputs": [
    {
     "data": {
      "text/plain": [
       "Lasso(alpha=0.03162277660168379, copy_X=True, fit_intercept=True,\n",
       "      max_iter=100000, normalize=False, positive=False, precompute=False,\n",
       "      random_state=None, selection='cyclic', tol=0.0001, warm_start=False)"
      ]
     },
     "execution_count": 11,
     "metadata": {},
     "output_type": "execute_result"
    }
   ],
   "source": [
    "regressor_with_grid_search.best_estimator_['regressor']"
   ]
  },
  {
   "cell_type": "code",
   "execution_count": 24,
   "metadata": {},
   "outputs": [
    {
     "data": {
      "text/plain": [
       "Text(0, 0.5, 'HR')"
      ]
     },
     "execution_count": 24,
     "metadata": {},
     "output_type": "execute_result"
    },
    {
     "data": {
      "image/png": "[encoded data removed]",
      "text/plain": [
       "<Figure size 720x576 with 1 Axes>"
      ]
     },
     "metadata": {
      "needs_background": "light"
     },
     "output_type": "display_data"
    }
   ],
   "source": [
    "f, axs = plt.subplots(1, 1, figsize=(10, 8))\n",
    "\n",
    "x = x_train_df['systolic_blood_pressure_min_0-100']\n",
    "y = x_train_df['heart_rate_median_0-100']\n",
    "outcomes = y_train_df['clinical_deterioration_outcome'].values\n",
    "\n",
    "\n",
    "axs.plot(x[outcomes==0], y[outcomes==0], 'b.')\n",
    "axs.plot(x[outcomes==1], y[outcomes==1], 'rx')\n",
    "axs.set_xlabel('BP')\n",
    "axs.set_ylabel('HR')"
   ]
  },
  {
   "cell_type": "code",
   "execution_count": 25,
   "metadata": {},
   "outputs": [],
   "source": [
    "out_dir = '/home/prash/datasets/'\n",
    "\n",
    "np.save(os.path.join(out_dir, 'feat_systolic_BP.npy'), x)\n",
    "np.save(os.path.join(out_dir, 'feat_heart_rate.npy'), y)\n",
    "np.save(os.path.join(out_dir, 'outcome.npy'), outcomes)"
   ]
  },
  {
   "cell_type": "code",
   "execution_count": null,
   "metadata": {},
   "outputs": [],
   "source": []
  }
 ],
 "metadata": {
  "kernelspec": {
   "display_name": "Python 3",
   "language": "python",
   "name": "python3"
  },
  "language_info": {
   "codemirror_mode": {
    "name": "ipython",
    "version": 3
   },
   "file_extension": ".py",
   "mimetype": "text/x-python",
   "name": "python",
   "nbconvert_exporter": "python",
   "pygments_lexer": "ipython3",
   "version": "3.8.2"
  }
 },
 "nbformat": 4,
 "nbformat_minor": 4
}
