{
 "cells": [
  {
   "cell_type": "code",
   "execution_count": 29,
   "id": "a3f53e90",
   "metadata": {},
   "outputs": [],
   "source": [
    "import numpy as np\n",
    "import pandas as pd\n",
    "import os\n",
    "import glob\n",
    "import matplotlib.pyplot as plt\n",
    "%matplotlib inline"
   ]
  },
  {
   "cell_type": "code",
   "execution_count": 3,
   "id": "65753f45",
   "metadata": {},
   "outputs": [],
   "source": [
    "saved_files_dir = \"/cluster/tufts/hugheslab/prath01/results/semi-synthetic/adversarial_prediction_logistic_regression/\"\n",
    "tr_perf_files = glob.glob(os.path.join(saved_files_dir, '*perf.csv'))"
   ]
  },
  {
   "cell_type": "code",
   "execution_count": 6,
   "id": "bae66900",
   "metadata": {},
   "outputs": [],
   "source": [
    "precision_train_np = np.zeros(len(tr_perf_files))\n",
    "precision_valid_np = np.zeros(len(tr_perf_files))\n",
    "precision_test_np = np.zeros(len(tr_perf_files))\n",
    "\n",
    "recall_train_np = np.zeros(len(tr_perf_files))\n",
    "recall_valid_np = np.zeros(len(tr_perf_files))\n",
    "recall_test_np = np.zeros(len(tr_perf_files))\n",
    "\n",
    "for ii, f in enumerate(tr_perf_files):\n",
    "    perf_df = pd.read_csv(f)\n",
    "    precision_train_np[ii] = perf_df['precision_train'].values[0]\n",
    "    precision_valid_np[ii] = perf_df['precision_valid'].values[0]\n",
    "    precision_test_np[ii] = perf_df['precision_test'].values[0]\n",
    "    recall_train_np[ii] = perf_df['recall_train'].values[0]\n",
    "    recall_valid_np[ii] = perf_df['recall_valid'].values[0]\n",
    "    recall_test_np[ii] = perf_df['recall_test'].values[0]"
   ]
  },
  {
   "cell_type": "code",
   "execution_count": 14,
   "id": "3454fbf2",
   "metadata": {},
   "outputs": [
    {
     "data": {
      "text/html": [
       "<div>\n",
       "<style scoped>\n",
       "    .dataframe tbody tr th:only-of-type {\n",
       "        vertical-align: middle;\n",
       "    }\n",
       "\n",
       "    .dataframe tbody tr th {\n",
       "        vertical-align: top;\n",
       "    }\n",
       "\n",
       "    .dataframe thead th {\n",
       "        text-align: right;\n",
       "    }\n",
       "</style>\n",
       "<table border=\"1\" class=\"dataframe\">\n",
       "  <thead>\n",
       "    <tr style=\"text-align: right;\">\n",
       "      <th></th>\n",
       "      <th>precision_train</th>\n",
       "      <th>precision_valid</th>\n",
       "      <th>precision_test</th>\n",
       "      <th>recall_train</th>\n",
       "      <th>recall_valid</th>\n",
       "      <th>recall_test</th>\n",
       "    </tr>\n",
       "  </thead>\n",
       "  <tbody>\n",
       "    <tr>\n",
       "      <th>0</th>\n",
       "      <td>0.730769</td>\n",
       "      <td>0.678571</td>\n",
       "      <td>0.755814</td>\n",
       "      <td>0.554745</td>\n",
       "      <td>0.666667</td>\n",
       "      <td>0.59633</td>\n",
       "    </tr>\n",
       "  </tbody>\n",
       "</table>\n",
       "</div>"
      ],
      "text/plain": [
       "   precision_train  precision_valid  precision_test  recall_train  \\\n",
       "0         0.730769         0.678571        0.755814      0.554745   \n",
       "\n",
       "   recall_valid  recall_test  \n",
       "0      0.666667      0.59633  "
      ]
     },
     "execution_count": 14,
     "metadata": {},
     "output_type": "execute_result"
    }
   ],
   "source": [
    "best_ind = np.argmax(precision_valid_np)\n",
    "\n",
    "perf_df_best = pd.read_csv(tr_perf_files[best_ind])\n",
    "perf_df_best[['precision_train', 'precision_valid', 'precision_test', 'recall_train', 'recall_valid', 'recall_test']]"
   ]
  },
  {
   "cell_type": "code",
   "execution_count": 18,
   "id": "b9072034",
   "metadata": {},
   "outputs": [],
   "source": [
    "training_hist_df = pd.read_csv(tr_perf_files[best_ind].replace('_perf.csv', 'training_hist.csv'))"
   ]
  },
  {
   "cell_type": "code",
   "execution_count": 30,
   "id": "0e098a60",
   "metadata": {},
   "outputs": [
    {
     "data": {
      "image/png": "[encoded data removed]",
      "text/plain": [
       "<Figure size 360x360 with 3 Axes>"
      ]
     },
     "metadata": {
      "needs_background": "light"
     },
     "output_type": "display_data"
    }
   ],
   "source": [
    "f, axs = plt.subplots(3, 1, figsize=(5, 5), sharex=True)\n",
    "axs[0].plot(training_hist_df['epoch'], training_hist_df['precision_train'], 'r')\n",
    "axs[0].plot(training_hist_df['epoch'], training_hist_df['precision_valid'], 'b')\n",
    "axs[0].set_ylabel('precision')\n",
    "\n",
    "axs[1].plot(training_hist_df['epoch'], training_hist_df['recall_train'], 'r')\n",
    "axs[1].plot(training_hist_df['epoch'], training_hist_df['recall_valid'], 'b')\n",
    "axs[1].set_ylabel('recall')\n",
    "\n",
    "axs[2].plot(training_hist_df['epoch'], training_hist_df['loss'], 'r')\n",
    "axs[2].set_ylabel('training loss')\n",
    "\n",
    "plt.show()"
   ]
  },
  {
   "cell_type": "code",
   "execution_count": 31,
   "id": "3a3defa5",
   "metadata": {},
   "outputs": [
    {
     "data": {
      "text/plain": [
       "0     0.311765\n",
       "1     0.416667\n",
       "2     0.451977\n",
       "3     0.485876\n",
       "4     0.564103\n",
       "5     0.630435\n",
       "6     0.664000\n",
       "7     0.655738\n",
       "8     0.650794\n",
       "9     0.643939\n",
       "10    0.591241\n",
       "11    0.591241\n",
       "12    0.610294\n",
       "13    0.629921\n",
       "14    0.644628\n",
       "15    0.658333\n",
       "16    0.681034\n",
       "17    0.725664\n",
       "18    0.734513\n",
       "19    0.715517\n",
       "20    0.711864\n",
       "21    0.710744\n",
       "22    0.692913\n",
       "23    0.639706\n",
       "24    0.628571\n",
       "25    0.644928\n",
       "26    0.669118\n",
       "27    0.696970\n",
       "28    0.690476\n",
       "29    0.700855\n",
       "30    0.706422\n",
       "31    0.702703\n",
       "32    0.658333\n",
       "33    0.600000\n",
       "34    0.612676\n",
       "35    0.620690\n",
       "36    0.649254\n",
       "37    0.650000\n",
       "38    0.625000\n",
       "39    0.615385\n",
       "40    0.714286\n",
       "41    0.664179\n",
       "42    0.522989\n",
       "43    0.554054\n",
       "44    0.655462\n",
       "45    0.476190\n",
       "46    0.476636\n",
       "47    0.433962\n",
       "48    0.529412\n",
       "49    0.730769\n",
       "Name: precision_train, dtype: float64"
      ]
     },
     "execution_count": 31,
     "metadata": {},
     "output_type": "execute_result"
    }
   ],
   "source": [
    "training_hist_df['precision_train']"
   ]
  },
  {
   "cell_type": "code",
   "execution_count": null,
   "id": "fe1acff9",
   "metadata": {},
   "outputs": [],
   "source": []
  }
 ],
 "metadata": {
  "kernelspec": {
   "display_name": "Python 3 (ipykernel)",
   "language": "python",
   "name": "python3"
  },
  "language_info": {
   "codemirror_mode": {
    "name": "ipython",
    "version": 3
   },
   "file_extension": ".py",
   "mimetype": "text/x-python",
   "name": "python",
   "nbconvert_exporter": "python",
   "pygments_lexer": "ipython3",
   "version": "3.8.11"
  }
 },
 "nbformat": 4,
 "nbformat_minor": 5
}
